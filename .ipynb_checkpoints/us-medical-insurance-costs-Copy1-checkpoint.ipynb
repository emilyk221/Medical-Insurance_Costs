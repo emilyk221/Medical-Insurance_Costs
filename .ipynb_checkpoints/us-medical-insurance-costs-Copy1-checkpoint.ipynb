{
 "cells": [
  {
   "cell_type": "markdown",
   "metadata": {},
   "source": [
    "# U.S. Medical Insurance Costs"
   ]
  },
  {
   "cell_type": "markdown",
   "metadata": {},
   "source": [
    "Goals:  Determine the average age of individuals with at least one child;\n",
    "        Determine what region has the highest number of smokers, highest number of children, and highest insurance cost\n",
    "\n",
    "Data Needed: Each individual's age and number of children;\n",
    "             Each individual's smoker status, number of children, insurance cost, and their region\n",
    "             \n",
    "Analysis: Count num of individuals who have at least one child, determine average age from this group\n",
    "          Count num of smokers from each region, count num of children from each region, determine average insurance cost in each region, present with bar charts"
   ]
  }
 ],
 "metadata": {
  "kernelspec": {
   "display_name": "Python 3 (ipykernel)",
   "language": "python",
   "name": "python3"
  },
  "language_info": {
   "codemirror_mode": {
    "name": "ipython",
    "version": 3
   },
   "file_extension": ".py",
   "mimetype": "text/x-python",
   "name": "python",
   "nbconvert_exporter": "python",
   "pygments_lexer": "ipython3",
   "version": "3.9.12"
  }
 },
 "nbformat": 4,
 "nbformat_minor": 4
}
