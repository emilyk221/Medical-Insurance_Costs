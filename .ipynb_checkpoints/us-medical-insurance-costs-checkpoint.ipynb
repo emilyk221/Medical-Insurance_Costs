{
 "cells": [
  {
   "cell_type": "markdown",
   "metadata": {},
   "source": [
    "# U.S. Medical Insurance Costs"
   ]
  },
  {
   "cell_type": "markdown",
   "metadata": {},
   "source": [
    "Goals:  Determine the average age of individuals with at least one child;\n",
    "        Determine what region has the highest number of smokers, highest number of children, and highest insurance cost\n",
    "\n",
    "Data Needed: Each individual's age and number of children;\n",
    "             Each individual's smoker status, number of children, insurance cost, and their region\n",
    "             \n",
    "Analysis: Count num of individuals who have at least one child, determine average age from this group\n",
    "          Determine percentage of smokers from each region, determine average num of children per person from each region, determine average insurance cost per person in each region"
   ]
  },
  {
   "cell_type": "code",
   "execution_count": 7,
   "metadata": {},
   "outputs": [
    {
     "name": "stdout",
     "output_type": "stream",
     "text": [
      "39.78010471204188\n"
     ]
    }
   ],
   "source": [
    "import csv\n",
    "\n",
    "def find_avg(list):\n",
    "    average = sum(list) / len(list)\n",
    "    return average\n",
    "\n",
    "ages_at_least_one_child = []\n",
    "\n",
    "with open('insurance.csv', newline='') as insurance_file:\n",
    "    insurance_data = csv.DictReader(insurance_file)\n",
    "    for row in insurance_data:\n",
    "        person = row\n",
    "        if int(person['children']) > 0:\n",
    "            ages_at_least_one_child.append(int(person['age']))\n",
    "\n",
    "print(find_avg(ages_at_least_one_child))"
   ]
  },
  {
   "cell_type": "code",
   "execution_count": 2,
   "metadata": {},
   "outputs": [
    {
     "name": "stdout",
     "output_type": "stream",
     "text": [
      "20.679012345679013 17.846153846153847 25.0 17.846153846153847\n"
     ]
    }
   ],
   "source": [
    "num_people_northeast = 0\n",
    "num_people_northwest = 0\n",
    "num_people_southeast = 0\n",
    "num_people_southwest = 0\n",
    "\n",
    "num_smokers_northeast = 0\n",
    "num_smokers_northwest = 0\n",
    "num_smokers_southeast = 0\n",
    "num_smokers_southwest = 0\n",
    "\n",
    "with open('insurance.csv', newline='') as insurance_file:\n",
    "    insurance_data = csv.DictReader(insurance_file)\n",
    "    for row in insurance_data:\n",
    "        person = row\n",
    "        if person['smoker'] == 'yes' and person['region'] == 'northeast':\n",
    "            num_smokers_northeast += 1\n",
    "            num_people_northeast += 1\n",
    "        elif person['smoker'] == 'no' and person['region'] == 'northeast':\n",
    "            num_people_northeast += 1\n",
    "        elif person['smoker'] == 'yes' and person['region'] == 'northwest':\n",
    "            num_smokers_northwest += 1\n",
    "            num_people_northwest += 1\n",
    "        elif person['smoker'] == 'no' and person['region'] == 'northwest':\n",
    "            num_people_northwest += 1\n",
    "        elif person['smoker'] == 'yes' and person['region'] == 'southeast':\n",
    "            num_smokers_southeast += 1\n",
    "            num_people_southeast += 1\n",
    "        elif person['smoker'] == 'no' and person['region'] == 'southeast':\n",
    "            num_people_southeast += 1\n",
    "        elif person['smoker'] == 'yes' and person['region'] == 'southwest':\n",
    "            num_smokers_southwest += 1\n",
    "            num_people_southwest += 1\n",
    "        elif person['smoker'] == 'no' and person['region'] == 'southwest':\n",
    "            num_people_southwest += 1\n",
    "            \n",
    "percentage_smokers_northeast = (num_smokers_northeast / num_people_northeast) * 100\n",
    "percentage_smokers_northwest = (num_smokers_northwest / num_people_northwest) * 100\n",
    "percentage_smokers_southeast = (num_smokers_southeast / num_people_southeast) * 100\n",
    "percentage_smokers_southwest = (num_smokers_southwest / num_people_southwest) * 100\n",
    "\n",
    "print(percentage_smokers_northeast, percentage_smokers_northwest, percentage_smokers_southeast, percentage_smokers_southwest)"
   ]
  },
  {
   "cell_type": "code",
   "execution_count": 3,
   "metadata": {},
   "outputs": [
    {
     "name": "stdout",
     "output_type": "stream",
     "text": [
      "1.0462962962962963 1.1476923076923078 1.0494505494505495 1.1415384615384616\n"
     ]
    }
   ],
   "source": [
    "num_children_northeast = 0\n",
    "num_children_northwest = 0\n",
    "num_children_southeast = 0\n",
    "num_children_southwest = 0\n",
    "\n",
    "with open('insurance.csv', newline='') as insurance_file:\n",
    "    insurance_data = csv.DictReader(insurance_file)\n",
    "    for row in insurance_data:\n",
    "        person = row\n",
    "        if person['region'] == 'northeast':\n",
    "            num_children_northeast += int(person['children'])\n",
    "        elif person['region'] == 'northwest':\n",
    "            num_children_northwest += int(person['children'])\n",
    "        elif person['region'] == 'southeast':\n",
    "            num_children_southeast += int(person['children'])\n",
    "        elif person['region'] == 'southwest':\n",
    "            num_children_southwest += int(person['children'])\n",
    "            \n",
    "avg_num_children_northeast = num_children_northeast / num_people_northeast\n",
    "avg_num_children_northwest = num_children_northwest / num_people_northwest\n",
    "avg_num_children_southeast = num_children_southeast / num_people_southeast\n",
    "avg_num_children_southwest = num_children_southwest / num_people_southwest\n",
    "\n",
    "print(avg_num_children_northeast, avg_num_children_northwest, avg_num_children_southeast, avg_num_children_southwest)"
   ]
  },
  {
   "cell_type": "code",
   "execution_count": 9,
   "metadata": {},
   "outputs": [
    {
     "name": "stdout",
     "output_type": "stream",
     "text": [
      "13406.3845163858 12417.575373969228 14735.411437609895 12346.93737729231\n"
     ]
    }
   ],
   "source": [
    "insurance_costs_northeast = []\n",
    "insurance_costs_northwest = []\n",
    "insurance_costs_southeast = []\n",
    "insurance_costs_southwest = []\n",
    "\n",
    "with open('insurance.csv', newline='') as insurance_file:\n",
    "    insurance_data = csv.DictReader(insurance_file)\n",
    "    for row in insurance_data:\n",
    "        person = row\n",
    "        if person['region'] == 'northeast':\n",
    "            insurance_costs_northeast.append(float(person['charges']))\n",
    "        elif person['region'] == 'northwest':\n",
    "            insurance_costs_northwest.append(float(person['charges']))\n",
    "        elif person['region'] == 'southeast':\n",
    "            insurance_costs_southeast.append(float(person['charges']))\n",
    "        elif person['region'] == 'southwest':\n",
    "            insurance_costs_southwest.append(float(person['charges']))\n",
    "            \n",
    "avg_insurance_cost_northeast = find_avg(insurance_costs_northeast)\n",
    "avg_insurance_cost_northwest = find_avg(insurance_costs_northwest)\n",
    "avg_insurance_cost_southeast = find_avg(insurance_costs_southeast)\n",
    "avg_insurance_cost_southwest = find_avg(insurance_costs_southwest)\n",
    "            \n",
    "print(avg_insurance_cost_northeast, avg_insurance_cost_northwest, avg_insurance_cost_southeast, avg_insurance_cost_southwest)"
   ]
  },
  {
   "cell_type": "code",
   "execution_count": null,
   "metadata": {},
   "outputs": [],
   "source": []
  }
 ],
 "metadata": {
  "kernelspec": {
   "display_name": "Python 3 (ipykernel)",
   "language": "python",
   "name": "python3"
  },
  "language_info": {
   "codemirror_mode": {
    "name": "ipython",
    "version": 3
   },
   "file_extension": ".py",
   "mimetype": "text/x-python",
   "name": "python",
   "nbconvert_exporter": "python",
   "pygments_lexer": "ipython3",
   "version": "3.9.12"
  }
 },
 "nbformat": 4,
 "nbformat_minor": 4
}
