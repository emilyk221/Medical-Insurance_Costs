{
 "cells": [
  {
   "cell_type": "markdown",
   "metadata": {},
   "source": [
    "# U.S. Medical Insurance Costs"
   ]
  },
  {
   "cell_type": "markdown",
   "metadata": {},
   "source": [
    "Goals:  Determine the average age of individuals with at least one child;\n",
    "        Determine what region has the highest number of smokers, highest number of children, and highest insurance cost\n",
    "\n",
    "Data Needed: Each individual's age and number of children;\n",
    "             Each individual's smoker status, number of children, insurance cost, and their region\n",
    "             \n",
    "Analysis: Count num of individuals who have at least one child, determine average age from this group\n",
    "          Determine percentage of smokers from each region, determine average num of children per person from each region, determine average insurance cost per person in each region"
   ]
  },
  {
   "cell_type": "code",
   "execution_count": 1,
   "metadata": {},
   "outputs": [],
   "source": [
    "import csv\n",
    "\n",
    "def find_avg(list):\n",
    "    average = sum(list) / len(list)\n",
    "    return average\n",
    "\n",
    "def find_percentage(num, total):\n",
    "    percentage = (num / total) * 100\n",
    "    return percentage\n",
    "\n",
    "def count_people(region):\n",
    "    num_people = 0\n",
    "    with open('insurance.csv', newline='') as insurance_file:\n",
    "        insurance_data = csv.DictReader(insurance_file)\n",
    "        for row in insurance_data:\n",
    "            person = row\n",
    "            if person['region'] == region:\n",
    "                num_people += 1\n",
    "        \n",
    "    return num_people"
   ]
  },
  {
   "cell_type": "code",
   "execution_count": 2,
   "metadata": {},
   "outputs": [],
   "source": [
    "def find_avg_age_parents(region):\n",
    "    ages_parents = []\n",
    "\n",
    "    with open('insurance.csv', newline='') as insurance_file:\n",
    "        insurance_data = csv.DictReader(insurance_file)\n",
    "        for row in insurance_data:\n",
    "            person = row\n",
    "            if int(person['children']) > 0 and person['region'] == region:\n",
    "                ages_parents.append(int(person['age']))\n",
    "    \n",
    "    avg_age_parents = find_avg(ages_parents)\n",
    "    return avg_age_parents\n",
    "\n",
    "# print(find_avg_age_parents('northeast'))\n",
    "# print(find_avg_age_parents('northwest'))\n",
    "# print(find_avg_age_parents('southeast'))\n",
    "# print(find_avg_age_parents('southwest'))"
   ]
  },
  {
   "cell_type": "code",
   "execution_count": 12,
   "metadata": {},
   "outputs": [
    {
     "name": "stdout",
     "output_type": "stream",
     "text": [
      "20.679012345679013\n"
     ]
    }
   ],
   "source": [
    "def find_percentage_smokers(region):\n",
    "    num_smokers = 0\n",
    "\n",
    "    with open('insurance.csv', newline='') as insurance_file:\n",
    "        insurance_data = csv.DictReader(insurance_file)\n",
    "        for row in insurance_data:\n",
    "            person = row\n",
    "            if person['smoker'] == 'yes' and person['region'] == region:\n",
    "                num_smokers += 1\n",
    "\n",
    "    percentage_smokers = find_percentage(num_smokers, count_people(region))\n",
    "\n",
    "    return percentage_smokers\n",
    "    \n",
    "# print(find_percentage_smokers('northeast'))"
   ]
  },
  {
   "cell_type": "code",
   "execution_count": 4,
   "metadata": {},
   "outputs": [],
   "source": [
    "def find_avg_num_children(region):\n",
    "    num_children = []\n",
    "    with open('insurance.csv', newline='') as insurance_file:\n",
    "        insurance_data = csv.DictReader(insurance_file)\n",
    "        for row in insurance_data:\n",
    "            person = row\n",
    "            if person['region'] == region:\n",
    "                num_children.append(int(person['children']))\n",
    "\n",
    "    avg_num_children = find_avg(num_children)\n",
    "\n",
    "    return avg_num_children\n",
    "\n",
    "# print(find_avg_num_of_children('northeast'))"
   ]
  },
  {
   "cell_type": "code",
   "execution_count": 5,
   "metadata": {},
   "outputs": [],
   "source": [
    "def find_avg_insurance_costs(region):\n",
    "    insurance_costs = []\n",
    "    with open('insurance.csv', newline='') as insurance_file:\n",
    "        insurance_data = csv.DictReader(insurance_file)\n",
    "        for row in insurance_data:\n",
    "            person = row\n",
    "            if person['region'] == region:\n",
    "                insurance_costs.append(float(person['charges']))\n",
    "\n",
    "    avg_insurance_cost = find_avg(insurance_costs)\n",
    "            \n",
    "    return avg_insurance_cost\n",
    "\n",
    "# print(find_avg_insurance_costs('northwest'))"
   ]
  },
  {
   "cell_type": "code",
   "execution_count": 9,
   "metadata": {},
   "outputs": [
    {
     "name": "stdout",
     "output_type": "stream",
     "text": [
      "Average age of parents with at least one child: 39.78011705461278\n",
      "Percentage of smokers in the northeast region: 20.679012345679013 Percentage of smokers in the northwest region: 17.846153846153847 Percentage of smokers in the southeast region: 25.0 Percentage of smokers in the southwest region: 17.846153846153847\n",
      "Average number of children per person in the northeast region: 1.0462962962962963 Average number of children per person in the northwest region: 1.1476923076923078 Average number of children per person in the southeast region: 1.0494505494505495 Average number of children per person in the southwest region: 1.1415384615384616\n",
      "Average insurance costs per person in the northeast region: 13406.3845163858 Average insurance costs per person in the northwest region: 12417.575373969228 Average insurance costs per person in the southeast region: 14735.411437609895 Average insurance costs per person in the southwest region: 12346.93737729231\n"
     ]
    }
   ],
   "source": [
    "avg_age_parents_northeast = find_avg_age_parents('northeast')\n",
    "avg_age_parents_northwest = find_avg_age_parents('northwest')\n",
    "avg_age_parents_southeast = find_avg_age_parents('southeast')\n",
    "avg_age_parents_southwest = find_avg_age_parents('southwest')\n",
    "\n",
    "total_avg_age_parents = find_avg([avg_age_parents_northeast, avg_age_parents_northwest, avg_age_parents_southeast, avg_age_parents_southwest])\n",
    "\n",
    "print('Average age of parents with at least one child: ' + str(total_avg_age_parents))\n",
    "\n",
    "print('Percentage of smokers in the northeast region: ' + str(find_percentage_smokers('northeast')),\n",
    "      'Percentage of smokers in the northwest region: ' + str(find_percentage_smokers('northwest')),\n",
    "      'Percentage of smokers in the southeast region: ' + str(find_percentage_smokers('southeast')), \n",
    "      'Percentage of smokers in the southwest region: ' + str(find_percentage_smokers('southwest')))\n",
    "\n",
    "print('Average number of children per person in the northeast region: ' + str(find_avg_num_children('northeast')),\n",
    "      'Average number of children per person in the northwest region: ' + str(find_avg_num_children('northwest')),\n",
    "      'Average number of children per person in the southeast region: ' + str(find_avg_num_children('southeast')),\n",
    "      'Average number of children per person in the southwest region: ' + str(find_avg_num_children('southwest')))\n",
    "\n",
    "print('Average insurance costs per person in the northeast region: ' + str(find_avg_insurance_costs('northeast')),\n",
    "      'Average insurance costs per person in the northwest region: ' + str(find_avg_insurance_costs('northwest')),\n",
    "      'Average insurance costs per person in the southeast region: ' + str(find_avg_insurance_costs('southeast')), \n",
    "      'Average insurance costs per person in the southwest region: ' + str(find_avg_insurance_costs('southwest')))\n"
   ]
  },
  {
   "cell_type": "code",
   "execution_count": 16,
   "metadata": {},
   "outputs": [
    {
     "name": "stdout",
     "output_type": "stream",
     "text": [
      "{'northeast': {'avg age of parents': 39.73446327683616, 'percentage smokers': 20.679012345679013, 'avg num of children': 1.0462962962962963, 'avg insurance cost': 13406.3845163858}, 'northwest': {'avg age of parents': 39.54922279792746, 'percentage smokers': 17.846153846153847, 'avg num of children': 1.1476923076923078, 'avg insurance cost': 12417.575373969228}, 'southeast': {'avg age of parents': 39.82608695652174, 'percentage smokers': 25.0, 'avg num of children': 1.0494505494505495, 'avg insurance cost': 14735.411437609895}, 'southwest': {'avg age of parents': 40.01069518716577, 'percentage smokers': 17.846153846153847, 'avg num of children': 1.1415384615384616, 'avg insurance cost': 12346.93737729231}}\n"
     ]
    }
   ],
   "source": [
    "average_data = {'northeast': {}, 'northwest': {}, 'southeast': {}, 'southwest':{}}\n",
    "\n",
    "def combine_average_data(region):\n",
    "    data = {'avg age of parents': find_avg_age_parents(region), 'percentage smokers': find_percentage_smokers(region),\n",
    "             'avg num of children': find_avg_num_children(region), 'avg insurance cost': find_avg_insurance_costs(region)}\n",
    "\n",
    "    average_data[region].update(data)\n",
    "\n",
    "combine_average_data('northeast')\n",
    "combine_average_data('northwest')\n",
    "combine_average_data('southeast')\n",
    "combine_average_data('southwest')\n",
    "print(average_data)"
   ]
  },
  {
   "cell_type": "code",
   "execution_count": null,
   "metadata": {},
   "outputs": [],
   "source": []
  }
 ],
 "metadata": {
  "kernelspec": {
   "display_name": "Python 3 (ipykernel)",
   "language": "python",
   "name": "python3"
  },
  "language_info": {
   "codemirror_mode": {
    "name": "ipython",
    "version": 3
   },
   "file_extension": ".py",
   "mimetype": "text/x-python",
   "name": "python",
   "nbconvert_exporter": "python",
   "pygments_lexer": "ipython3",
   "version": "3.9.12"
  }
 },
 "nbformat": 4,
 "nbformat_minor": 4
}
