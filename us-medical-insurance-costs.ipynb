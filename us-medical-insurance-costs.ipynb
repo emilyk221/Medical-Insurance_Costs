{
 "cells": [
  {
   "cell_type": "markdown",
   "metadata": {},
   "source": [
    "# U.S. Medical Insurance Costs"
   ]
  },
  {
   "cell_type": "markdown",
   "metadata": {},
   "source": [
    "Goals:  Determine the average age of individuals with at least one child;\n",
    "        Determine what region has the highest number of smokers, highest number of children, and highest insurance cost\n",
    "\n",
    "Data Needed: Each individual's age and number of children;\n",
    "             Each individual's smoker status, number of children, insurance cost, and their region\n",
    "             \n",
    "Analysis: Count num of individuals who have at least one child, determine average age from this group\n",
    "          Determine percentage of smokers from each region, determine average num of children per person from each region, determine average insurance cost per person in each region"
   ]
  },
  {
   "cell_type": "code",
   "execution_count": 1,
   "metadata": {},
   "outputs": [],
   "source": [
    "import csv\n",
    "\n",
    "def find_avg(list):\n",
    "    average = sum(list) / len(list)\n",
    "    return average\n",
    "\n",
    "def find_percentage(num, total):\n",
    "    percentage = (num / total) * 100\n",
    "    return percentage\n",
    "\n",
    "def count_people(region):\n",
    "    num_people = 0\n",
    "    with open('insurance.csv', newline='') as insurance_file:\n",
    "        insurance_data = csv.DictReader(insurance_file)\n",
    "        for row in insurance_data:\n",
    "            person = row\n",
    "            if person['region'] == region:\n",
    "                num_people += 1\n",
    "        \n",
    "    return num_people"
   ]
  },
  {
   "cell_type": "code",
   "execution_count": 2,
   "metadata": {},
   "outputs": [],
   "source": [
    "def find_avg_age_parents(region):\n",
    "    ages_parents = []\n",
    "\n",
    "    with open('insurance.csv', newline='') as insurance_file:\n",
    "        insurance_data = csv.DictReader(insurance_file)\n",
    "        for row in insurance_data:\n",
    "            person = row\n",
    "            if int(person['children']) > 0 and person['region'] == region:\n",
    "                ages_parents.append(int(person['age']))\n",
    "    \n",
    "    avg_age_parents = find_avg(ages_parents)\n",
    "    return avg_age_parents\n",
    "\n",
    "# print(find_avg_age_parents('northeast'))\n",
    "# print(find_avg_age_parents('northwest'))\n",
    "# print(find_avg_age_parents('southeast'))\n",
    "# print(find_avg_age_parents('southwest'))"
   ]
  },
  {
   "cell_type": "code",
   "execution_count": 3,
   "metadata": {},
   "outputs": [],
   "source": [
    "def find_percentage_smokers(region):\n",
    "    num_smokers = 0\n",
    "\n",
    "    with open('insurance.csv', newline='') as insurance_file:\n",
    "        insurance_data = csv.DictReader(insurance_file)\n",
    "        for row in insurance_data:\n",
    "            person = row\n",
    "            if person['smoker'] == 'yes' and person['region'] == region:\n",
    "                num_smokers += 1\n",
    "\n",
    "    percentage_smokers = find_percentage(num_smokers, count_people(region))\n",
    "\n",
    "    return percentage_smokers\n",
    "    \n",
    "# print(find_percentage_smokers('southeast'))"
   ]
  },
  {
   "cell_type": "code",
   "execution_count": 4,
   "metadata": {},
   "outputs": [],
   "source": [
    "def find_avg_num_of_children(region):\n",
    "    num_children = []\n",
    "    with open('insurance.csv', newline='') as insurance_file:\n",
    "        insurance_data = csv.DictReader(insurance_file)\n",
    "        for row in insurance_data:\n",
    "            person = row\n",
    "            if person['region'] == region:\n",
    "                num_children.append(int(person['children']))\n",
    "\n",
    "    avg_num_children = find_avg(num_children)\n",
    "\n",
    "    return avg_num_children\n",
    "\n",
    "# print(find_avg_num_of_children('northeast'))"
   ]
  },
  {
   "cell_type": "code",
   "execution_count": 5,
   "metadata": {},
   "outputs": [],
   "source": [
    "def find_avg_insurance_costs(region):\n",
    "    insurance_costs = []\n",
    "    with open('insurance.csv', newline='') as insurance_file:\n",
    "        insurance_data = csv.DictReader(insurance_file)\n",
    "        for row in insurance_data:\n",
    "            person = row\n",
    "            if person['region'] == region:\n",
    "                insurance_costs.append(float(person['charges']))\n",
    "\n",
    "    avg_insurance_cost = find_avg(insurance_costs)\n",
    "            \n",
    "    return avg_insurance_cost\n",
    "\n",
    "# print(find_avg_insurance_costs('northwest'))"
   ]
  },
  {
   "cell_type": "code",
   "execution_count": null,
   "metadata": {},
   "outputs": [],
   "source": []
  }
 ],
 "metadata": {
  "kernelspec": {
   "display_name": "Python 3 (ipykernel)",
   "language": "python",
   "name": "python3"
  },
  "language_info": {
   "codemirror_mode": {
    "name": "ipython",
    "version": 3
   },
   "file_extension": ".py",
   "mimetype": "text/x-python",
   "name": "python",
   "nbconvert_exporter": "python",
   "pygments_lexer": "ipython3",
   "version": "3.9.12"
  }
 },
 "nbformat": 4,
 "nbformat_minor": 4
}
